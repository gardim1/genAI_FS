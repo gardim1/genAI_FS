{
 "cells": [
  {
   "cell_type": "markdown",
   "id": "fe12c203-e6a6-452c-a655-afb8a03a4ff5",
   "metadata": {},
   "source": [
    "# End of week 1 exercise\n",
    "\n",
    "To demonstrate your familiarity with OpenAI API, and also Ollama, build a tool that takes a technical question,  \n",
    "and responds with an explanation. This is a tool that you will be able to use yourself during the course!"
   ]
  },
  {
   "cell_type": "code",
   "execution_count": 1,
   "id": "c1070317-3ed9-4659-abe3-828943230e03",
   "metadata": {},
   "outputs": [],
   "source": [
    "# imports\n",
    "\n",
    "from dotenv import load_dotenv\n",
    "from IPython.display import Markdown, display, update_display\n",
    "from openai import OpenAI\n",
    "import ollama"
   ]
  },
  {
   "cell_type": "code",
   "execution_count": 2,
   "id": "4a456906-915a-4bfd-bb9d-57e505c5093f",
   "metadata": {},
   "outputs": [],
   "source": [
    "# constants\n",
    "\n",
    "MODEL_GPT = 'gpt-4o-mini'\n",
    "MODEL_LLAMA = 'llama3.2'"
   ]
  },
  {
   "cell_type": "code",
   "execution_count": 3,
   "id": "a8d7923c-5f28-4c30-8556-342d7c8497c1",
   "metadata": {},
   "outputs": [],
   "source": [
    "# set up environment\n",
    "\n",
    "load_dotenv()\n",
    "openai = OpenAI()"
   ]
  },
  {
   "cell_type": "code",
   "execution_count": 4,
   "id": "3f0d0137-52b0-47a8-81a8-11a90a010798",
   "metadata": {},
   "outputs": [],
   "source": [
    "# here is the question; type over this to ask something new\n",
    "\n",
    "question = \"\"\"\n",
    "Please explain what this code does and why:\n",
    "yield from {book.get(\"author\") for book in books if book.get(\"author\")}\n",
    "\"\"\""
   ]
  },
  {
   "cell_type": "code",
   "execution_count": 5,
   "id": "a1ce9b24-338d-49c9-878c-6fd7527c7888",
   "metadata": {},
   "outputs": [],
   "source": [
    "system_prompt = \"You will be a helpful technica tutor who will help me with technology questions. You will explain me whats wrong with my code and/or explain a snippet of code and even sugest how can i improve this code\"\n",
    "user_prompt = \"please give me a technical answer to this question \" + question"
   ]
  },
  {
   "cell_type": "code",
   "execution_count": 7,
   "id": "eb3410d6-4774-479c-9fb6-828ce4975363",
   "metadata": {},
   "outputs": [],
   "source": [
    "messages =[\n",
    "    {\"role\": \"system\", \"content\": system_prompt},\n",
    "    {\"role\": \"user\", \"content\": user_prompt}\n",
    "]"
   ]
  },
  {
   "cell_type": "code",
   "execution_count": 8,
   "id": "60ce7000-a4a5-4cce-a261-e75ef45063b4",
   "metadata": {},
   "outputs": [
    {
     "data": {
      "text/markdown": [
       "The code snippet you provided is a Python expression that uses the `yield from` statement along with a set comprehension. Here's a breakdown of its components and what it accomplishes:\n",
       "\n",
       "1. **Set Comprehension**:\n",
       "   The part `{book.get(\"author\") for book in books if book.get(\"author\")}` is a set comprehension. A set comprehension creates a set (an unordered collection of unique elements) from an iterable—in this case, the variable `books`.\n",
       "\n",
       "   - `for book in books`: This iterates over each `book` object in the `books` iterable.\n",
       "   - `book.get(\"author\")`: This attempts to retrieve the value associated with the key `\"author\"` in each `book` dictionary. If the key does not exist, `get` method will return `None` instead of raising a KeyError.\n",
       "   - `if book.get(\"author\")`: This condition filters out books where the `\"author\"` key does not exist or is empty (e.g., the value might be an empty string or `None`). Thus, only books with valid authors will be included in the set.\n",
       "\n",
       "   The result of this comprehension is a set of unique authors from the list of books.\n",
       "\n",
       "2. **`yield from`**:\n",
       "   The `yield from` statement is used within a generator function to yield all values from an iterable. In this case, it yields all the unique author names extracted from the books.\n",
       "\n",
       "   The overall use of `yield from` means that the function will return values one at a time, allowing the caller to iterate over them as if they were part of the generator's output.\n",
       "\n",
       "### What does the code do?\n",
       "The complete line of code defines a generator expression that produces unique author names from a collection of book dictionaries. Each author name can then be processed individually when iterating over the generator.\n",
       "\n",
       "### Example Operation:\n",
       "If you have a list of book dictionaries like:\n",
       "python\n",
       "books = [\n",
       "    {\"title\": \"Book A\", \"author\": \"Author 1\"},\n",
       "    {\"title\": \"Book B\", \"author\": \"Author 2\"},\n",
       "    {\"title\": \"Book C\"},  # Missing author\n",
       "    {\"title\": \"Book D\", \"author\": \"Author 1\"},  # Duplicate author\n",
       "]\n",
       "\n",
       "Then, after executing the provided line of code, the generator would yield `\"Author 1\"` and `\"Author 2\"`.\n",
       "\n",
       "### Suggested Improvements:\n",
       "1. **Using List Comprehension**:\n",
       "   If memory usage is not a concern and you want to return author names in a list rather than a set, you can use a list comprehension:\n",
       "   python\n",
       "   authors = {book.get(\"author\") for book in books if book.get(\"author\")}\n",
       "   yield from authors  # Yields unique authors\n",
       "   \n",
       "   This way, you explicitly indicate that you're dealing with unique values.\n",
       "\n",
       "2. **Using `filter` with `map`**:\n",
       "   Alternatively, you could also use the `filter` and `map` functions to achieve similar results:\n",
       "   python\n",
       "   yield from filter(None, map(lambda book: book.get(\"author\"), books))\n",
       "   \n",
       "\n",
       "3. **Explanation Clarity**:\n",
       "   Consider adding comments or documentation within your code to clarify what the code snippet is intended to do, which can be helpful for maintainability.\n",
       "\n",
       "In summary, the provided code effectively gathers unique authors from a collection of book dictionaries and yields them one at a time, which can be useful for further processing or iteration."
      ],
      "text/plain": [
       "<IPython.core.display.Markdown object>"
      ]
     },
     "metadata": {},
     "output_type": "display_data"
    }
   ],
   "source": [
    "# Get gpt-4o-mini to answer, with streaming\n",
    "stream = openai.chat.completions.create(model=MODEL_GPT, messages=messages,stream=True)\n",
    "\n",
    "response = \"\"\n",
    "display_handle = display(Markdown(\"\"), display_id=True)\n",
    "for chunk in stream:\n",
    "    response += chunk.choices[0].delta.content or ''\n",
    "    response = response.replace(\"```\",\"\").replace(\"markdown\", \"\")\n",
    "    update_display(Markdown(response), display_id=display_handle.display_id)"
   ]
  },
  {
   "cell_type": "code",
   "execution_count": 9,
   "id": "8f7c8ea8-4082-4ad0-8751-3301adcf6538",
   "metadata": {},
   "outputs": [
    {
     "data": {
      "text/markdown": [
       "**Code Analysis**\n",
       "\n",
       "The given code snippet is written in Python. It utilizes the `yield from` syntax, which was introduced in Python 3.3 as part of the async/await syntax.\n",
       "\n",
       "```python\n",
       "from typing import Generator\n",
       "\n",
       "# Assuming these are defined elsewhere:\n",
       "def get(book):\n",
       "    # Get a value from the book dictionary\n",
       "    pass\n",
       "\n",
       "books = [...list of books...]\n",
       "\n",
       "def my_function():\n",
       "    yield from {book.get(\"author\") for book in books if book.get(\"author\")}\n",
       "```\n",
       "\n",
       "**What does it do?**\n",
       "\n",
       "This code defines an iterator that yields the authors of the books in the `books` list. Here's a breakdown:\n",
       "\n",
       "1. The `yield from` syntax is used to delegate iteration over a sub-iterator.\n",
       "2. `{book.get(\"author\") for book in books if book.get(\"author\")}` creates a generator expression, which generates values on-the-fly instead of computing them all at once and storing them in memory.\n",
       "3. For each book in the `books` list, it checks if the book has an \"author\" key using `book.get(\"author\")`. If the key exists, its value (i.e., the author) is yielded.\n",
       "\n",
       "**Why does it do that?**\n",
       "\n",
       "This code seems to be designed for the following reasons:\n",
       "\n",
       "*   It iterates over a large list of books without loading them all into memory.\n",
       "*   It filters out books with missing \"author\" data, reducing unnecessary computations.\n",
       "*   It uses lazy iteration, where values are generated only when they're needed.\n",
       "\n",
       "**Improvement Suggestions**\n",
       "\n",
       "This code is already quite efficient. However, here are some minor suggestions to make it more Pythonic:\n",
       "\n",
       "*   Consider adding a type hint for the `yield from` expression using the `Generator` type from the `typing` module.\n",
       "*   Instead of directly iterating over a dictionary (which might not be designed for iteration), consider using an iterator-like object if available.\n",
       "\n",
       "Here's how you could apply these suggestions:\n",
       "\n",
       "```python\n",
       "from typing import Generator\n",
       "\n",
       "# Assuming these are defined elsewhere:\n",
       "def get(book):\n",
       "    # Get a value from the book dictionary\n",
       "    pass\n",
       "\n",
       "books = [...list of books...]\n",
       "\n",
       "def my_function() -> Generator[str, None, None]:\n",
       "    for book in books:\n",
       "        if \"author\" in book:\n",
       "            yield book[\"author\"]\n",
       "```\n",
       "\n",
       "This modified version includes type hints and explicitly checks for the presence of the \"author\" key using dictionary membership (`in`)."
      ],
      "text/plain": [
       "<IPython.core.display.Markdown object>"
      ]
     },
     "metadata": {},
     "output_type": "display_data"
    }
   ],
   "source": [
    "# Get Llama 3.2 to answer\n",
    "response = ollama.chat(model=MODEL_LLAMA, messages=messages)\n",
    "reply = response['message']['content']\n",
    "display(Markdown(reply))"
   ]
  }
 ],
 "metadata": {
  "kernelspec": {
   "display_name": "Python 3 (ipykernel)",
   "language": "python",
   "name": "python3"
  },
  "language_info": {
   "codemirror_mode": {
    "name": "ipython",
    "version": 3
   },
   "file_extension": ".py",
   "mimetype": "text/x-python",
   "name": "python",
   "nbconvert_exporter": "python",
   "pygments_lexer": "ipython3",
   "version": "3.11.11"
  }
 },
 "nbformat": 4,
 "nbformat_minor": 5
}
